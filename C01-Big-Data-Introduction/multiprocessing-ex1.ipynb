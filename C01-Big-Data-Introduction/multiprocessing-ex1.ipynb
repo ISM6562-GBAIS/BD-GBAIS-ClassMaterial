{
 "cells": [
  {
   "cell_type": "markdown",
   "metadata": {},
   "source": [
    "## Demonstrating serial vs parallel processing\n",
    "\n",
    "\n",
    "ISM6562 \n",
    "\n",
    "&copy; 2023 Dr. Tim Smith\n",
    "\n",
    "\n",
    "---"
   ]
  },
  {
   "cell_type": "code",
   "execution_count": 1,
   "metadata": {},
   "outputs": [],
   "source": [
    "# uncomment the following line to install the package on google colab\n",
    "# ! pip install multiprocess\n",
    "\n",
    "# uncomment the following line to install the package on your local machine with conda\n",
    "# ! conda install -c conda-forge multiprocess"
   ]
  },
  {
   "cell_type": "code",
   "execution_count": 2,
   "metadata": {},
   "outputs": [
    {
     "name": "stdout",
     "output_type": "stream",
     "text": [
      "The computer you are running this on has 10 cores.\n"
     ]
    }
   ],
   "source": [
    "import multiprocess\n",
    "from multiprocess import Pool\n",
    "\n",
    "number_of_cores = multiprocess.cpu_count()\n",
    "\n",
    "print(f\"The computer you are running this on has {number_of_cores} cores.\")"
   ]
  },
  {
   "cell_type": "markdown",
   "metadata": {},
   "source": [
    "> NOTE: The difference between single processing and multiprocessing speeds will depend on how many cores your CPU has. The more cores, the more paralellization can be done. My desktop has 32 cores. If you have a different number of cores, you will see a different speedup."
   ]
  },
  {
   "cell_type": "code",
   "execution_count": 3,
   "metadata": {},
   "outputs": [],
   "source": [
    "# the number of cores to use is dependent on a number factors\n",
    "#  * how many other processes are running on your computer\n",
    "#  * how many cores your computer has\n",
    "#  * newer CPUs have p-cores (performance cores) and e-cores (efficiency cores) \n",
    "#       - the p-cores are faster but use more power, the e-cores are slower but use less power\n",
    "\n",
    "# Uncomment on of the following to set the number of cores to use\n",
    "\n",
    "\n",
    "#number_of_cores_to_use = 2 # if you are on colaboratory, you have 2 cores\n",
    "\n",
    "# if you are running this on your local machine, you likely have 4 or more cores\n",
    "number_of_cores_to_use = number_of_cores - 1 # leave one core for the OS "
   ]
  },
  {
   "cell_type": "markdown",
   "metadata": {},
   "source": [
    "In this notebook we will create a task that can be run in parallel. This is defined as a function (you can call it whatever name you'd like, but I've called it 'tasks').\n",
    "\n",
    "The task has a certain computational complexity. In this case, it is defined by the number of iterations in the for loop. The more iterations, the more complex the task. The more complex the task, the more time it takes to complete.\n",
    "\n",
    "Also, I've defined the number of tasks that will be run. The more tasks that are run, the more time it takes to complete."
   ]
  },
  {
   "cell_type": "code",
   "execution_count": 4,
   "metadata": {},
   "outputs": [],
   "source": [
    "task_complexity = 100_000\n",
    "number_of_tasks = 10_000"
   ]
  },
  {
   "cell_type": "code",
   "execution_count": 5,
   "metadata": {},
   "outputs": [],
   "source": [
    "def task(num):\n",
    "    val = 0\n",
    "    for i in range(task_complexity):\n",
    "        val += i / 23\n",
    "    return val"
   ]
  },
  {
   "cell_type": "markdown",
   "metadata": {},
   "source": [
    "Now, let's do this job a number of times on a single core and then on multiple cores. We'll time the results and compare."
   ]
  },
  {
   "cell_type": "markdown",
   "metadata": {},
   "source": [
    "Single core results..."
   ]
  },
  {
   "cell_type": "code",
   "execution_count": 6,
   "metadata": {},
   "outputs": [
    {
     "name": "stdout",
     "output_type": "stream",
     "text": [
      "[217389130.43478262, 217389130.43478262, 217389130.43478262, 217389130.43478262, 217389130.43478262, 217389130.43478262, 217389130.43478262, 217389130.43478262, 217389130.43478262, 217389130.43478262]\n",
      "CPU times: user 23.5 s, sys: 7.26 ms, total: 23.5 s\n",
      "Wall time: 23.6 s\n"
     ]
    }
   ],
   "source": [
    "%%time\n",
    "data = []\n",
    "for i in range(number_of_tasks):\n",
    "    data += [task(i)]\n",
    "\n",
    "print(data[:10])"
   ]
  },
  {
   "cell_type": "markdown",
   "metadata": {},
   "source": [
    "> NOTE: **Wall time** is the total time from start to finish of the call. This includes time spent waiting for network, CPU, and disk I/O resources. This is the time that you would measure as the elapsed time between the start and end of a python script.\n"
   ]
  },
  {
   "cell_type": "markdown",
   "metadata": {},
   "source": [
    "Multiple core results..."
   ]
  },
  {
   "cell_type": "code",
   "execution_count": 7,
   "metadata": {},
   "outputs": [
    {
     "name": "stdout",
     "output_type": "stream",
     "text": [
      "[217389130.43478262, 217389130.43478262, 217389130.43478262, 217389130.43478262, 217389130.43478262, 217389130.43478262, 217389130.43478262, 217389130.43478262, 217389130.43478262, 217389130.43478262]\n",
      "CPU times: user 21.2 ms, sys: 26.5 ms, total: 47.6 ms\n",
      "Wall time: 3.11 s\n"
     ]
    }
   ],
   "source": [
    "%%time\n",
    "\n",
    "with Pool(number_of_cores) as p:\n",
    "    data = p.map(task, [i for i in range(number_of_tasks)])\n",
    "\n",
    "print(data[:10])    "
   ]
  },
  {
   "cell_type": "markdown",
   "metadata": {},
   "source": [
    "### Summary\n",
    "\n",
    "The multiprocessing package is a great way to speed up your code. But, if the complexity of the task is not high enough, the overhead of creating the processes will be higher than the speedup you get from parallelization. In this case, the code will actually run slower than the serial version. This overhead is also why the speedup is not linear with the number of cores. The more cores you use, the more overhead you have. This overhead though becomes a smaller percentage of the total time as the complexity of the task increases."
   ]
  }
 ],
 "metadata": {
  "kernelspec": {
   "display_name": "Python 3 (ipykernel)",
   "language": "python",
   "name": "python3"
  },
  "language_info": {
   "codemirror_mode": {
    "name": "ipython",
    "version": 3
   },
   "file_extension": ".py",
   "mimetype": "text/x-python",
   "name": "python",
   "nbconvert_exporter": "python",
   "pygments_lexer": "ipython3",
   "version": "3.11.5"
  },
  "vscode": {
   "interpreter": {
    "hash": "31f2aee4e71d21fbe5cf8b01ff0e069b9275f58929596ceb00d14d90e3e16cd6"
   }
  }
 },
 "nbformat": 4,
 "nbformat_minor": 4
}
